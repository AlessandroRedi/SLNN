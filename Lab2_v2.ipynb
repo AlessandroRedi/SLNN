{
  "nbformat": 4,
  "nbformat_minor": 0,
  "metadata": {
    "colab": {
      "provenance": [],
      "include_colab_link": true
    },
    "kernelspec": {
      "name": "python3",
      "display_name": "Python 3"
    },
    "language_info": {
      "name": "python"
    }
  },
  "cells": [
    {
      "cell_type": "markdown",
      "metadata": {
        "id": "view-in-github",
        "colab_type": "text"
      },
      "source": [
        "<a href=\"https://colab.research.google.com/github/AlessandroRedi/SLNN/blob/main/Lab2_v2.ipynb\" target=\"_parent\"><img src=\"https://colab.research.google.com/assets/colab-badge.svg\" alt=\"Open In Colab\"/></a>"
      ]
    },
    {
      "cell_type": "markdown",
      "source": [],
      "metadata": {
        "id": "qffVuP8egqT1"
      }
    },
    {
      "cell_type": "markdown",
      "source": [
        "**STATISTICAL LEARNING AND NEURAL NETWORKS, A.A. 2022/2023**\n",
        "\n",
        "**COMPUTER LAB 2** - Model fitting and classification\n",
        "\n",
        "**Duration: 9 hours**"
      ],
      "metadata": {
        "id": "iwhGEjuxTlZz"
      }
    },
    {
      "cell_type": "markdown",
      "source": [
        "**Exercise 1 – Model fitting for continuous distributions: Multivariate Gaussian**\n",
        "\n",
        "In this exercise, you will employ a dataset based on the classic dataset *Iris Plants Database* https://archive.ics.uci.edu/ml/datasets/iris. You will be provided a subset of this dataset comprising only two classes (*Iris Setosa* and *Iris Versicolour*), and only two features per class (*petal length* in cm and *petal width* in cm). The objective is to the determine the kind of iris based on the content of the features.\n",
        "\n",
        "**Task:** you have to fit class-conditional Gaussian multivariate distributions to the data, and visualize the probability density functions. In particular, you should perform the following:\n",
        "\n",
        "\n",
        "*   Divide the dataset in two parts (*Iris Setosa* which corresponds to class zero and *Iris Versicolour* which correspond to class 1). Then work only on one class at a time.\n",
        "*   Plot the data of each class (use the *plt.scatter( )* function)\n",
        "*   Visualize the histogram of petal length and petal width (use e.g. the *plt.hist( )* function)\n",
        "*   Calculate the maximum likelihood estimate of the mean and covariance matrix under a multivariate Gaussian model, independently for each class (these are the parameters of the class-conditional distributions). Note: is the Gaussian model good for these data?\n",
        "*    Visualize the 2-D joint pdf of petal length and width for the two classes."
      ],
      "metadata": {
        "id": "Zw1lJAyRTtfy"
      }
    },
    {
      "cell_type": "code",
      "source": [
        "from google.colab import drive\n",
        "drive.mount('/content/drive')"
      ],
      "metadata": {
        "id": "oYqtwjJZwvej",
        "colab": {
          "base_uri": "https://localhost:8080/"
        },
        "outputId": "0e9ebfcc-4944-46cd-a773-3e380f860f64"
      },
      "execution_count": 1,
      "outputs": [
        {
          "output_type": "stream",
          "name": "stdout",
          "text": [
            "Mounted at /content/drive\n"
          ]
        }
      ]
    },
    {
      "cell_type": "code",
      "source": [
        "import numpy as np\n",
        "import matplotlib.pyplot as plt\n",
        "import h5py\n",
        "\n",
        "Dataset1 = h5py.File(\"/content/drive/MyDrive/Poli/SLNN/Computer Lab 2/Lab2_Ex_1_Iris.hdf5\")\n",
        "Data = np.array(Dataset1.get('Dataset'))\n"
      ],
      "metadata": {
        "id": "hpkQuQS3TsZI"
      },
      "execution_count": 2,
      "outputs": []
    },
    {
      "cell_type": "code",
      "source": [
        "#Separate the dataset in the two classes, you can use the numpy function argsort and unique to do this.  \n",
        "Classes_id, index, counts = np.unique(Data[:,2], return_index = True, return_counts = True)\n",
        "Orded_Data = Data[np.argsort(Data[:,2])]\n",
        "Class0 = Orded_Data[:counts[0],:]\n",
        "Class1 = Orded_Data[counts[1]:,:]\n",
        "\n",
        "#Draw the scatter plot of the two classes on the same image\n",
        "plt.scatter(Class0[:,0],Class0[:,1])\n",
        "plt.scatter(Class1[:,0],Class1[:,1])\n",
        "plt.xlabel(\"Petal length (cm)\")\n",
        "plt.ylabel(\"Petal width (cm)\")\n",
        "plt.title(\"Scattering petal plot\")"
      ],
      "metadata": {
        "id": "j4nPKMp-bTQa",
        "colab": {
          "base_uri": "https://localhost:8080/",
          "height": 312
        },
        "outputId": "930411fb-8b78-414c-9079-d2b3c6f9e2eb"
      },
      "execution_count": 3,
      "outputs": [
        {
          "output_type": "execute_result",
          "data": {
            "text/plain": [
              "Text(0.5, 1.0, 'Scattering petal plot')"
            ]
          },
          "metadata": {},
          "execution_count": 3
        },
        {
          "output_type": "display_data",
          "data": {
            "text/plain": [
              "<Figure size 432x288 with 1 Axes>"
            ],
            "image/png": "[encoded data removed]"
          },
          "metadata": {
            "needs_background": "light"
          }
        }
      ]
    },
    {
      "cell_type": "code",
      "source": [
        "#Visualize the histogram of petal length and petal width (use e.g. the plt.hist() function)\n",
        "length = [Class0[:,0],Class1[:,0]]\n",
        "plt.hist(length, histtype = 'bar',  label=['Iris Setosa','Iris Versicolour'])\n",
        "plt.xlabel(\"Length\")\n",
        "plt.ylabel(\"Occurrancy\")\n",
        "plt.legend()\n",
        "plt.show()\n",
        "\n",
        "width = [Class0[:,1],Class1[:,1]]\n",
        "plt.hist(length, histtype = 'bar', label=['Iris Setosa','Iris Versicolour'])\n",
        "plt.xlabel(\"Width\")\n",
        "plt.ylabel(\"Occurrancy\")\n",
        "plt.legend()\n",
        "plt.show()"
      ],
      "metadata": {
        "id": "620rAMG0depm",
        "colab": {
          "base_uri": "https://localhost:8080/",
          "height": 541
        },
        "outputId": "8afdbf61-077f-4a62-a111-d574f8981b66"
      },
      "execution_count": 4,
      "outputs": [
        {
          "output_type": "display_data",
          "data": {
            "text/plain": [
              "<Figure size 432x288 with 1 Axes>"
            ],
            "image/png": "[encoded data removed]"
          },
          "metadata": {
            "needs_background": "light"
          }
        },
        {
          "output_type": "display_data",
          "data": {
            "text/plain": [
              "<Figure size 432x288 with 1 Axes>"
            ],
            "image/png": "[encoded data removed]"
          },
          "metadata": {
            "needs_background": "light"
          }
        }
      ]
    },
    {
      "cell_type": "code",
      "source": [
        "#Calculate mean and covariance matrix under a multivariate Gaussian model. Scalar products can be computed with the function np.matmul()\n",
        "\n",
        "#The transpose can be obtained with the function np.transpose \n",
        "\n",
        "#To make a scalar product between arrays in the form [Mx1]x[1xM] starting from 1D array A it may be necessary to add a new axis using \n",
        "#the function A[:,np.newaxis]\n",
        "#print(type(Class0))\n",
        "mean_vect0 = np.array([np.sum(Class0[:,0])/len(Class0), np.sum(Class0[:,1])/len(Class0)])\n",
        "mean_vect1 = np.array([np.sum(Class1[:,0])/len(Class1), np.sum(Class1[:,1])/len(Class1)])\n",
        "mean_vect0 = mean_vect0.reshape(2,1)\n",
        "mean_vect1 = mean_vect1.reshape(2,1)\n",
        "\n",
        "x=0\n",
        "for i in range (len(Class0)):\n",
        "  xt = np.transpose(Class0[i,:2].reshape(1,2))\n",
        "  x = x + xt@Class0[i,:2].reshape(1,2)\n",
        "cov_matr0 = (x/(len(Class0))) - mean_vect0@(np.transpose(mean_vect0))\n",
        "\n",
        "\n",
        "y=0\n",
        "for j in range (len(Class1)):\n",
        "  yt = np.transpose(Class1[j,:2].reshape(1,2))\n",
        "  y = y + yt@Class1[j,:2].reshape(1,2)\n",
        "cov_matr1 = (y/(len(Class1))) - mean_vect1@(np.transpose(mean_vect1))\n",
        "\n",
        "\n",
        "'''\n",
        "mean_vect0.append(np.mean(Class0[:,0]))\n",
        "mean_vect0.append(np.mean(Class0[:,1]))\n",
        "cov_matr0 = np.cov( Class0[:,:2], rowvar = False)\n",
        "\n",
        "mean_vect1.append(np.mean(Class1[:,0]))\n",
        "mean_vect1.append(np.mean(Class1[:,1]))\n",
        "cov_matr1 = np.cov( Class1[:,:2], rowvar = False)\n",
        "'''"
      ],
      "metadata": {
        "id": "zGm5v5fnfxE9",
        "colab": {
          "base_uri": "https://localhost:8080/",
          "height": 87
        },
        "outputId": "aec443cc-635e-45dc-bf5a-f5e4a09b7572"
      },
      "execution_count": 61,
      "outputs": [
        {
          "output_type": "stream",
          "name": "stdout",
          "text": [
            "<class 'numpy.ndarray'>\n"
          ]
        },
        {
          "output_type": "execute_result",
          "data": {
            "text/plain": [
              "'\\nmean_vect0.append(np.mean(Class0[:,0]))\\nmean_vect0.append(np.mean(Class0[:,1]))\\ncov_matr0 = np.cov( Class0[:,:2], rowvar = False)\\n\\nmean_vect1.append(np.mean(Class1[:,0]))\\nmean_vect1.append(np.mean(Class1[:,1]))\\ncov_matr1 = np.cov( Class1[:,:2], rowvar = False)\\n'"
            ],
            "application/vnd.google.colaboratory.intrinsic+json": {
              "type": "string"
            }
          },
          "metadata": {},
          "execution_count": 61
        }
      ]
    },
    {
      "cell_type": "code",
      "source": [
        "#Visualize the 2-D joint pdf of petal length and width, a pdf function can be initialized by providing mean and covariance matrix\n",
        "from scipy.stats import multivariate_normal\n",
        "from matplotlib import cm\n",
        "from matplotlib.ticker import LinearLocator\n",
        "\n",
        "#pdf_class0 = multivariate_normal(mean=..., cov=...)\n",
        "#pdf_class1 = multivariate_normal(mean=..., cov=...)\n",
        "\n",
        "#Create a grid of x and y values on which to sample the pdf, this is done by providing a list of x-y of coordinates to the function pdf_class0.pdf(...)\n",
        "#A 3D view of the pdf can be obtained using the function ax.plot_surface\n",
        "\n",
        "#Code Example:\n",
        "\n",
        "#X = np.arange(...)\n",
        "#Y = np.arange(...)\n",
        "\n",
        "#X, Y = np.meshgrid(X, Y)\n",
        "#X_flat = X.flatten()\n",
        "#Y_flat = Y.flatten()\n",
        "#XY_list = np.concatenate((X1[:,np.newaxis],Y1[:,np.newaxis]),axis=1)\n",
        "#PDF_values = np.reshape(pdf_class0.pdf(XY_list), np.shape(X))\n",
        "\n",
        "#fig, ax = plt.subplots(subplot_kw={\"projection\": \"3d\"},figsize=(8, 8), dpi=150)\n",
        "#ax.plot_surface(X, Y, PDF_values, cmap=cm.coolwarm, alpha=0.7, linewidth=0)\n",
        "\n",
        "#To change the orientation of the 3D plot the function ax.view_init(), for a view from above select ax.view_init( 90, 0)\n",
        "\n",
        "#After visualizing the pdf you can plot the points of the dataset on the estimated pdf using ax.scatter3D()\n",
        "#For a better visualization of the points we suggest to make the pdf plot semi-transparent using the alpha parameter\n",
        "\n",
        "#Code Example: \n",
        "#PDF_points_class0 = np.reshape(pdf_class0.pdf(Features_class0), np.shape(X))\n",
        "#ax.scatter3D(Points_Class0_Feature0, Points_Class0_Feature1, PDF_points_class0, s=10)\n",
        "\n",
        "#Note: the sample code was written only for class 0 but two plots have to be done, one for class 0 and one for class 1"
      ],
      "metadata": {
        "id": "SF9GkeLT9Dlc"
      },
      "execution_count": null,
      "outputs": []
    },
    {
      "cell_type": "markdown",
      "source": [
        "**Student's comments to Exercise 1**\n",
        "\n",
        "*Add comments to the results of Exercise 1 here (may use LateX for formulas if needed).*"
      ],
      "metadata": {
        "id": "pTpZd04_NEZz"
      }
    },
    {
      "cell_type": "markdown",
      "source": [
        "**Exercise 2 - Model fitting for discrete distributions: Bag of Words**\n",
        "\n",
        "\n",
        "In this exercise, you will employ a real dataset (file *SMSSpamCollection*). The SMS Spam Collection v.1 (https://www.kaggle.com/datasets/uciml/sms-spam-collection-dataset) is a set of SMS tagged messages that have been collected for SMS Spam research. It contains one set of SMS messages in English of 5,574 messages, tagged acording being ham (legitimate) or spam.\n",
        "Task: you have to fit the parameters employed by a Naïve Bayes Classifier, using a Bernoulli model. Under this model, the parameters are:\n",
        "\n",
        "*   $\\pi_{c}$, the prior probabilities of each class.\n",
        "*   $\\theta_{jc}$, the probability that feature j is equal to 1 in class c.\n",
        "\n",
        "Model fitting can be done using the pseudocode at the end of the Lecture 3 slides.\n",
        "\n",
        "Display the class-conditional densities $\\theta_{jc1}$ and $\\theta_{jc2}$. Try to identify “uninformative” features (i.e., features j such that $\\theta_{jc1}$ ≃ $\\theta_{jc2}$)."
      ],
      "metadata": {
        "id": "-NemN6SgT9zn"
      }
    },
    {
      "cell_type": "code",
      "source": [
        "import numpy as np\n",
        "import sklearn\n",
        "from sklearn.feature_extraction.text import CountVectorizer\n",
        "from sklearn import metrics\n",
        "import matplotlib.pyplot as plt\n",
        "import pandas as pd\n",
        "import seaborn as sns\n",
        "\n",
        "#from NLP_base_library import text_splitting, print_dtm\n",
        "import sys\n",
        "import matplotlib.pyplot as plt\n",
        "\n",
        "data=pd.read_csv('/content/SMSSpamCollection', encoding = \"ISO-8859-1\",sep='\\t',header=None)\n",
        "data.rename(columns = {0:'labels', 1:'text'}, inplace=True)\n",
        "\n",
        "sns.countplot(data['labels'])\n",
        "\n",
        "#Dataset Preprocessing: convesion from a collection of sentences into a Bag_of_words representation\n",
        "from nltk.corpus import stopwords\n",
        "from nltk.stem.porter import PorterStemmer\n",
        "import re\n",
        "import nltk\n",
        "\n",
        "ps = PorterStemmer()\n",
        "nltk.download('stopwords')\n",
        "\n",
        "from nltk.corpus import stopwords\n",
        "from nltk.stem.porter import PorterStemmer\n",
        "ps = PorterStemmer()\n",
        "\n",
        "corpus = []\n",
        "for i in range(0, len(data)):\n",
        "    review = re.sub('[^a-zA-Z]', ' ', data['text'][i]) #remove all characters which are not letters \n",
        "    review = review.lower() #set everything to lower case\n",
        "    review = review.split() #split into words\n",
        "    #remove stopwords (articles and other uniformative words), replace words with their \"stem\" (basic form without conjugations and pluralizations )\n",
        "    review = [ps.stem(word) for word in review if not word in stopwords.words('english')] \n",
        "    review = ' '.join(review)\n",
        "    corpus.append(review)\n",
        "\n",
        "from sklearn.feature_extraction.text import CountVectorizer\n",
        "cv = CountVectorizer(max_features=2500)\n",
        "\n",
        "\n",
        "\n",
        "X = cv.fit_transform(corpus).toarray() #Convert dataset into Bag of words using the most informative 2500 words \n",
        "feature_names = cv.get_feature_names_out()\n",
        "print( f\"Some examples of words which are used as features: {feature_names}\") #This vector of strings contain the kind of words that are used as features. They obtained words can be truncated since they are in the \"stem\" form \n",
        "\n",
        "y = pd.get_dummies(data['labels'])\n",
        "y = y.iloc[:,1].values #convert the name of the two classes (\"ham\" and \"spam\") into numeric values \"0\" and \"1\"\n",
        "\n",
        "#Partition Training and Testing set\n",
        "#The training set is composed of 2000 SMS with 2500 features each, which identify wether a word from dictionary is present or not following the BoW representation\n",
        "X_train = X[:2000,:] \n",
        "#y_train is composed of the 2000 labels for the training examples, indicating wether a message is real (class 0) or spam (class 1)\n",
        "y_train = y[:2000]   #\n",
        "\n",
        "X_test = X[2000:3000,:] #1000 SMS are used in the testing set\n",
        "y_test =y[2000:3000]"
      ],
      "metadata": {
        "id": "aRuVqGZZck1K",
        "colab": {
          "base_uri": "https://localhost:8080/",
          "height": 389
        },
        "outputId": "6b7a83b9-7c6e-4a24-8776-91b891389ad8"
      },
      "execution_count": null,
      "outputs": [
        {
          "output_type": "stream",
          "name": "stderr",
          "text": [
            "/usr/local/lib/python3.7/dist-packages/seaborn/_decorators.py:43: FutureWarning: Pass the following variable as a keyword arg: x. From version 0.12, the only valid positional argument will be `data`, and passing other arguments without an explicit keyword will result in an error or misinterpretation.\n",
            "  FutureWarning\n",
            "[nltk_data] Downloading package stopwords to /root/nltk_data...\n",
            "[nltk_data]   Package stopwords is already up-to-date!\n"
          ]
        },
        {
          "output_type": "stream",
          "name": "stdout",
          "text": [
            "Some examples of words which are used as features: amount\n"
          ]
        },
        {
          "output_type": "display_data",
          "data": {
            "text/plain": [
              "<Figure size 432x288 with 1 Axes>"
            ],
            "image/png": "[encoded data removed]"
          },
          "metadata": {
            "needs_background": "light"
          }
        }
      ]
    },
    {
      "cell_type": "code",
      "source": [
        "#Evaluate the probabilities of the two classes, and the class conditional densities."
      ],
      "metadata": {
        "id": "iDc-RTLPUn_g"
      },
      "execution_count": null,
      "outputs": []
    },
    {
      "cell_type": "code",
      "source": [
        "#Display the class-conditional densities θjc1 and θjc2."
      ],
      "metadata": {
        "id": "b_o62zfqTCR3"
      },
      "execution_count": null,
      "outputs": []
    },
    {
      "cell_type": "markdown",
      "source": [
        "**Student's comments to Exercise 2**\n",
        "\n",
        "*Add comments to the results of Exercise 2 here (may use LateX for formulas if needed).*"
      ],
      "metadata": {
        "id": "lo67SKuYNN2z"
      }
    },
    {
      "cell_type": "markdown",
      "source": [
        "**Exercise 3 - Classification – discrete data**\n",
        "\n",
        "In this exercise, you will design a Naïve Bayes Classifier (NBC) for the Bag of Words (BoW) features for document classification that have been prepared in *Exercise 2*. In particular, in *exercise 2*, you have already estimated the following parameters:\n",
        "\n",
        "\n",
        "*   The prior probabilities of each class, $\\pi_{c} = p(y=c)$.\n",
        "*   The class-conditional probabilities of each feature, $\\theta_{jc} = p(x_{j}=1 | y=c)$.\n",
        "\n",
        "These parameters have been estimated from the training data. In this exercise, you will use the test data, and classify each test vector using an NBC whose model has been fitted in *Exercise 2*. In particular, you will do the following:\n",
        "\n",
        "\n",
        "\n",
        "*   For each test vector, calculate the MAP estimate of the class the test vector belongs to. Remember: the MAP classifier chooses the class that maximizes $\\mathop{\\max\\limits_c{\\log p(y=c|x)} \\propto \\log p(x|y=c)} + \\log p(c)$. In the NBC, the features (i.e. each entry of $x$) are assumed to be statistically independent, so $p(x|y=c) = \\prod_{j=1}^{D}p(x_{j}|y=c)$. This formula allows you to calculate $p(x|y=c)$ for a given test vector $x$ using the parameters $\\theta_{jc}$ already calculated in *Exercise 2*. Note that, after the logarithm, the product \n",
        "becomes a summation. It is much better to use the logarithm in order to avoid underflow.\n",
        "*   See how the accuracy changes when the prior is not taken into account (e.g. by comparing the MLE and MAP estimate).\n",
        "*   After classifying a test vector using the NBC, the obtained class can be compared with the truth (vector *ytest*).\n",
        "*   The accuracy of the classifier can be computed as the percentage of times that the NBC provides the correct class for a test vector.\n",
        "*   Repeat the same operations using the training data as test data, and compare the accuracy of the classifier on the training and test data.\n",
        "*   Note: It is expected that students implement the Naive Bayes classifier from scratch without using pre-made functions such as sklearn.naive_bayes\n",
        "\n",
        "**Optional:**\n",
        "\n",
        "If you plot the class-conditional densities as done at the end of Exercise 2, you will see that many features are uninformative; e.g., words that appear very often (or very rarely) in documents belonging to either class are not very helpful to classify a document. The NBC can perform a lot better if these uninformative features are disregarded during the classification, i.e. only a subset of the features, chosen among the most informative ones, are retained. To rank the features by “significance”, one can employ the mutual information between feature $x_{j}$ and class $y$ (see Sec. 3.5.4 of the textbook):\n",
        "\n",
        "\\begin{align*}\n",
        "I(X,Y) = \\sum_{xj} \\sum_{y}p(x_{j},y) \\log \\frac{p(x_{j},y)}{p(x_{j})p(y)}\n",
        "\\end{align*}\n",
        "\n",
        "For binary features, the mutual information of feature j can be written as:\n",
        "\n",
        "\\begin{align*}\n",
        "I_{j} = \\sum_{c} \\left[\\theta_{jc}\\pi_{c}\\log \\frac{\\theta_{jc}}{\\theta_{j}}+ (1 - \\theta_{jc})\\pi_{c} \\log \\frac{1 - \\theta_{jc}}{1 - \\theta_{j}}\\right]\n",
        "\\end{align*}\n",
        "\n",
        "with $\\theta_{j}=p(x_{j}=1)=\\sum_{c}\\pi_{c}\\theta_{jc}$. For this part, you should:\n",
        "\n",
        "\n",
        "*   Calculate $I_{j}$ for all features. Note: try to avoid divisions by zero adding the machine precision constant *eps* to the denominators.\n",
        "*   Rank the features by decreasing values of $I_{j}$, and keep only the $K$ most important ones.\n",
        "\n",
        "*    Run the classifier employing only the $K$ most important features, and calculate the accuracy.\n",
        "\n",
        "*    Plot the accuracy as a function of $K$."
      ],
      "metadata": {
        "id": "lnWIukCTcnzE"
      }
    },
    {
      "cell_type": "code",
      "source": [
        "#Evaluate the MAP on the test set"
      ],
      "metadata": {
        "id": "1q0Cbwtmcm8D"
      },
      "execution_count": null,
      "outputs": []
    },
    {
      "cell_type": "code",
      "source": [
        "#Evaluate the MLE on the test set"
      ],
      "metadata": {
        "id": "_hFwaEmsZxxq"
      },
      "execution_count": null,
      "outputs": []
    },
    {
      "cell_type": "code",
      "source": [
        "#Optional section"
      ],
      "metadata": {
        "id": "1PTAw1dMagCR"
      },
      "execution_count": null,
      "outputs": []
    },
    {
      "cell_type": "markdown",
      "source": [
        "**Student's comments to Exercise 3**\n",
        "\n",
        "*Add comments to the results of Exercise 3 here (may use LateX for formulas if needed).*"
      ],
      "metadata": {
        "id": "nkAjnxUxNWc3"
      }
    },
    {
      "cell_type": "markdown",
      "source": [
        "**Exercise 4 – Plotting the ROC curve**\n",
        "\n",
        "For the discrete data classification problem of Exercise 3, analyse the performance of the classifier plotting the complete ROC curve, instead of simply measuring the accuracy. This requires to do the following.\n",
        "\n",
        "*   Instead of classifying the documents choosing class 1 if $p(y=1|x)>p(y=2|x)$, now you can generalize this to choosing class 1 if $\\frac{p(y=1|x)}{p(y=2|x)}>\\tau \\in [0, \\infty)$ for some threshold $\\tau$ that determines the compromise between true positive rate (TPR) and false positive rate (FPR). \n",
        "*   Choose a **reasonable** range of values for $\\tau$. For each value of $\\tau$, compute the TPR and FPR on the dataset (Hint: determine suitable minimum and maximum values for $\\tau$, and sample densely enough in that range). \n",
        "* Plot a curve of TPR as a function of FPR – this is the ROC curve for this classifier.\n",
        "\n",
        "*   Determine an estimate of the Equal Error Rate (EER), i.e. the point of the ROC curve such that TPR+FPR=1."
      ],
      "metadata": {
        "id": "0QWIOOdBc0R5"
      }
    },
    {
      "cell_type": "code",
      "source": [
        "#Use the posterior probabilities previously and classify using the formula above to estimate tau\n",
        "\n",
        "#Note: To estimate the TPR you need to compute the number of cases where class 1 is correctly predicted, \n",
        "#this value then has to be divided by the number of elements in the test set which belong to class 1 \n",
        "\n",
        "#The FPR is computed by selecting the number of cases where class 1 is predicted incorrectly, \n",
        "#this value then has to be divided by the number of elements in the test set which do not belong to class 1  \n",
        "\n",
        "#The point corresponding to the EER can be found by plotting on the ROC curve the function y = 1 - x"
      ],
      "metadata": {
        "id": "btE3PLH-c9Q3"
      },
      "execution_count": null,
      "outputs": []
    },
    {
      "cell_type": "markdown",
      "source": [
        "**Student's comments to Exercise 4**\n",
        "\n",
        "*Add comments to the results of Exercise 4 here (may use LateX for formulas if needed).*"
      ],
      "metadata": {
        "id": "1Me2HlCRNa8W"
      }
    },
    {
      "cell_type": "markdown",
      "source": [
        "**Exercise 5 – Classification – continuous data**\n",
        "\n",
        "This exercise employs the Iris dataset already employed in Exercise 1, and performs model fitting and classification using several versions of **Gaussian discriminative analysis**. However, for this exercise the available data have to be divided into two sets, namely *training* and *test* data. \n",
        "\n",
        "You will have to 1) re-fit the training data to the specific model (see below), 2) classify each of the test samples, and 3) calculate the accuracy of each classifier.\n",
        "\n",
        "Classifiers to be employed:\n",
        "*   Two-class quadratic discriminant analysis (fitting: both mean values and covariance matrices are class-specific – same as in exercise 1).\n",
        "*   Two-class linear discriminant analysis (fitting: class-specific mean values as in the previous case. Shared covariance matrix is calculated putting together the elements of both classes; the mean values should also be recalculated accordingly)."
      ],
      "metadata": {
        "id": "jQNUFexxc94-"
      }
    },
    {
      "cell_type": "code",
      "source": [
        "import numpy as np\n",
        "import matplotlib.pyplot as plt\n",
        "import h5py\n",
        "\n",
        "Dataset1 = h5py.File(\"/content/Lab2_Ex_1_Iris.hdf5\")\n",
        "Data = np.array(Dataset1.get('Dataset')) \n",
        "\n",
        "Train = Data[:50,:]\n",
        "Test = Data[50:,:]"
      ],
      "metadata": {
        "id": "vJTl-QmJdBDj"
      },
      "execution_count": null,
      "outputs": []
    },
    {
      "cell_type": "markdown",
      "source": [
        "**Student's comments to Exercise 5**\n",
        "\n",
        "*Add comments to the results of Exercise 5 here (may use LateX for formulas if needed).*"
      ],
      "metadata": {
        "id": "Lp32RGD6Nd2K"
      }
    },
    {
      "cell_type": "markdown",
      "source": [
        "**Exercise 6 – Classification – continuous data**\n",
        "\n",
        "Classify the data in the phoneme dataset from Lab. 1 using quadratic discriminant analysis, linear discriminat analysis and a Naive Bayes classifier. \n",
        "\n",
        "Compute the accuracy of each classifier and compare its performance with that of the k-nn classifier developed in Lab. 1.\n",
        "\n",
        "Note: in Lab1 we had to employ a subset of the oiginal dataset due to the fact that k-nn has a quadratic complexity making it unfit for use on large datasets. The algorithms illustrated in this Lab have smaller complexity and thus it is possible to train on more data.\n",
        "\n",
        "For this exercise you can use the sklearn library."
      ],
      "metadata": {
        "id": "D-3cCP8ndBkz"
      }
    },
    {
      "cell_type": "code",
      "source": [
        "import numpy as np\n",
        "import h5py\n",
        "from scipy.stats import multivariate_normal\n",
        "\n",
        "Dataset2 = h5py.File(\"/content/Lab2_Ex_6_phoneme_v2.hdf5\")\n",
        "Data = np.array(Dataset2.get('Dataset'))\n",
        "\n",
        "Train = Data[:4000,:]\n",
        "Test = Data[4000:,:]\n",
        "len_dat = np.shape(Test)[0]\n",
        "\n",
        "from sklearn import metrics\n",
        "from sklearn.discriminant_analysis import LinearDiscriminantAnalysis, QuadraticDiscriminantAnalysis\n",
        "from sklearn.naive_bayes import GaussianNB\n",
        "\n",
        "#Part 1\n",
        "clf = LinearDiscriminantAnalysis()\n",
        "#Complete here\n",
        "\n",
        "#Part 2\n",
        "clf2 = QuadraticDiscriminantAnalysis()\n",
        "#Complete here\n",
        "\n",
        "#Part 3\n",
        "clf3 = GaussianNB()\n",
        "#Complete here"
      ],
      "metadata": {
        "id": "O7urLt_kdLxt"
      },
      "execution_count": null,
      "outputs": []
    },
    {
      "cell_type": "markdown",
      "source": [
        "**Student's comments to Exercise 6**\n",
        "\n",
        "*Add comments to the results of Exercise 6 here (may use LateX for formulas if needed).*"
      ],
      "metadata": {
        "id": "faJ5zulmNhAJ"
      }
    }
  ]
}